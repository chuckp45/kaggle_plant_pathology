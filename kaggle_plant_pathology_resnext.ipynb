{
 "cells": [
  {
   "cell_type": "code",
   "execution_count": 1,
   "metadata": {
    "_cell_guid": "b1076dfc-b9ad-4769-8c92-a6c4dae69d19",
    "_uuid": "8f2839f25d086af736a60e9eeb907d3b93b6e0e5"
   },
   "outputs": [
    {
     "name": "stdout",
     "output_type": "stream",
     "text": [
      "cuda:0\n"
     ]
    }
   ],
   "source": [
    "import torch\n",
    "import numpy as np\n",
    "import matplotlib.pyplot as plt\n",
    "import pandas as pd\n",
    "import seaborn as sns\n",
    "from pathlib import Path\n",
    "from skimage import io, transform\n",
    "from torch.utils.data import Dataset, DataLoader\n",
    "from torchvision import transforms, utils\n",
    "from torchvision.models import resnext50_32x4d\n",
    "from torch.autograd import Variable\n",
    "import time\n",
    "import copy\n",
    "device = torch.device(\"cuda:0\" if torch.cuda.is_available() else \"cpu\")\n",
    "print(device)"
   ]
  },
  {
   "cell_type": "code",
   "execution_count": 2,
   "metadata": {
    "_cell_guid": "79c7e3d0-c299-4dcb-8224-4455121ee9b0",
    "_uuid": "d629ff2d2480ee46fbb7e2d37f6b5fab8052498a"
   },
   "outputs": [
    {
     "name": "stdout",
     "output_type": "stream",
     "text": [
      "        image_id  healthy  multiple_diseases  rust  scab\n",
      "0        Train_0        0                  0     0     1\n",
      "1        Train_1        0                  1     1     1\n",
      "2        Train_2        1                  0     0     0\n",
      "3        Train_3        0                  0     1     0\n",
      "4        Train_4        1                  0     0     0\n",
      "...          ...      ...                ...   ...   ...\n",
      "1816  Train_1816        0                  0     0     1\n",
      "1817  Train_1817        1                  0     0     0\n",
      "1818  Train_1818        1                  0     0     0\n",
      "1819  Train_1819        0                  0     1     0\n",
      "1820  Train_1820        0                  0     0     1\n",
      "\n",
      "[1821 rows x 5 columns]\n"
     ]
    }
   ],
   "source": [
    "path = Path('/kaggle/input/plant-pathology-2020-fgvc7/')\n",
    "train_data = pd.read_csv(path / 'train.csv')\n",
    "train_data.loc[train_data['multiple_diseases'] == 1, 'rust':] = 1\n",
    "print(train_data)"
   ]
  },
  {
   "cell_type": "markdown",
   "metadata": {},
   "source": [
    "# Creating a custom data set class for loading images and classes\n",
    "Inherits from the PyTorch Dataset class. The data set is then instantiated using the specified transforms (crops, normalizes, and converts to tensor). A test-train split is then created for model validation."
   ]
  },
  {
   "cell_type": "code",
   "execution_count": 3,
   "metadata": {},
   "outputs": [],
   "source": [
    "class PlantPathology(Dataset):\n",
    "\n",
    "    def __init__(self, _data_frame, root_dir, transform=None):\n",
    "        self.root_dir = root_dir\n",
    "        self.data_frame = _data_frame\n",
    "        self.transform = transform\n",
    "\n",
    "    def __len__(self):\n",
    "        return len(self.data_frame)\n",
    "\n",
    "    def __getitem__(self, idx):\n",
    "        if torch.is_tensor(idx):\n",
    "            idx = list(idx)\n",
    "        img_name = self.root_dir / (self.data_frame.iloc[idx]['image_id'] + '.jpg')\n",
    "        image = io.imread(img_name)\n",
    "        labels = np.array([\n",
    "                  self.data_frame.iloc[idx]['healthy'], \n",
    "                  self.data_frame.iloc[idx]['multiple_diseases'],\n",
    "                  self.data_frame.iloc[idx]['rust'],\n",
    "                  self.data_frame.iloc[idx]['scab']\n",
    "                  ])\n",
    "        sample = {'image': image, 'labels': labels}\n",
    "        if self.transform:\n",
    "            sample['image'] = self.transform(sample['image'])\n",
    "        return sample"
   ]
  },
  {
   "cell_type": "code",
   "execution_count": 4,
   "metadata": {},
   "outputs": [],
   "source": [
    "transform_train = transforms.Compose([transforms.ToPILImage(),\n",
    "                                transforms.RandomResizedCrop((224, 224), \n",
    "                                                             scale=(0.7, 1.0)),\n",
    "                                transforms.RandomHorizontalFlip(),\n",
    "                                transforms.ToTensor(),\n",
    "                                transforms.Normalize(\n",
    "                                    [0.485, 0.456, 0.406], \n",
    "                                    [0.229, 0.224, 0.225])])\n",
    "transform_test = transforms.Compose([transforms.ToPILImage(),\n",
    "                                transforms.Resize((224, 224)),\n",
    "                                transforms.ToTensor(),\n",
    "                                transforms.Normalize(\n",
    "                                    [0.485, 0.456, 0.406], \n",
    "                                    [0.229, 0.224, 0.225])])\n",
    "data = pd.read_csv(path / 'train.csv')\n",
    "shuffled = np.arange(0, data.shape[0])\n",
    "np.random.shuffle(shuffled)\n",
    "train_data = data.iloc[shuffled[0: int(0.9 * shuffled.shape[0])]]\n",
    "test_data = data.iloc[shuffled[int(0.9 * shuffled.shape[0]):]]\n",
    "# train_data.to_csv(path / 'train_split.csv')\n",
    "# test_data.to_csv(path / 'test_split.csv')\n",
    "# train_data = None\n",
    "# test_data = None\n",
    "train_dataset = PlantPathology(train_data, path / 'images',\n",
    "                               transform=transform_train)\n",
    "test_dataset = PlantPathology(test_data, path / 'images',\n",
    "                               transform=transform_test)"
   ]
  },
  {
   "cell_type": "markdown",
   "metadata": {},
   "source": [
    "# Validating Dataset\n",
    "Creating and testing a function for visualizing an image from the custom dataset and its labels."
   ]
  },
  {
   "cell_type": "code",
   "execution_count": 5,
   "metadata": {},
   "outputs": [],
   "source": [
    "def imshow(inp):\n",
    "    \"\"\"Imshow for Tensor.\"\"\"\n",
    "    inp = inp.numpy().transpose((1, 2, 0))\n",
    "    mean = np.array([0.485, 0.456, 0.406])\n",
    "    std = np.array([0.229, 0.224, 0.225])\n",
    "    inp = std * inp + mean\n",
    "    inp = np.clip(inp, 0, 1)\n",
    "    plt.imshow(inp) "
   ]
  },
  {
   "cell_type": "code",
   "execution_count": 6,
   "metadata": {},
   "outputs": [
    {
     "data": {
      "image/png": "[encoded data removed]",
      "text/plain": [
       "<Figure size 432x288 with 1 Axes>"
      ]
     },
     "metadata": {
      "needs_background": "light"
     },
     "output_type": "display_data"
    },
    {
     "name": "stdout",
     "output_type": "stream",
     "text": [
      "[1 0 0 0]\n",
      "torch.Size([3, 224, 224])\n"
     ]
    }
   ],
   "source": [
    "fig = plt.figure()\n",
    "item = train_dataset[122]\n",
    "imshow(item['image'])\n",
    "plt.show()\n",
    "print(item['labels'])\n",
    "print(item['image'].shape)"
   ]
  },
  {
   "cell_type": "code",
   "execution_count": 7,
   "metadata": {},
   "outputs": [],
   "source": [
    "datasets = {'train': train_dataset,\n",
    "            'val': test_dataset}\n",
    "# if OOM on GPU, try reducing batch_size and num_workers in the 'dataloaders'\n",
    "dataloaders = {x: torch.utils.data.DataLoader(datasets[x], batch_size=16,\n",
    "                                             shuffle=True, num_workers=8)\n",
    "              for x in ['train', 'val']}\n",
    "dataset_sizes = {x: len(datasets[x]) for x in ['train', 'val']}"
   ]
  },
  {
   "cell_type": "markdown",
   "metadata": {},
   "source": [
    "# Model\n",
    "importing the resnet model and replacing its final linear layer to have only 4 outputs. I have found that performance is better when pretrained weights are updated with backpropagation, so I commented out the requires_grad = False statement."
   ]
  },
  {
   "cell_type": "code",
   "execution_count": 8,
   "metadata": {},
   "outputs": [
    {
     "name": "stderr",
     "output_type": "stream",
     "text": [
      "Downloading: \"https://download.pytorch.org/models/resnext50_32x4d-7cdf4587.pth\" to /root/.cache/torch/checkpoints/resnext50_32x4d-7cdf4587.pth\n"
     ]
    },
    {
     "data": {
      "application/vnd.jupyter.widget-view+json": {
       "model_id": "6794ce063d9d41e38af2e885d96449a6",
       "version_major": 2,
       "version_minor": 0
      },
      "text/plain": [
       "HBox(children=(FloatProgress(value=0.0, max=100441675.0), HTML(value='')))"
      ]
     },
     "metadata": {},
     "output_type": "display_data"
    },
    {
     "name": "stdout",
     "output_type": "stream",
     "text": [
      "\n"
     ]
    }
   ],
   "source": [
    "model = resnext50_32x4d(pretrained=True)\n",
    "# for param in model.parameters():\n",
    "#     param.requires_grad = False\n",
    "model.fc = torch.nn.Linear(2048, 4)\n",
    "# print(model)\n",
    "if torch.cuda.is_available():\n",
    "    model.cuda()"
   ]
  },
  {
   "cell_type": "markdown",
   "metadata": {},
   "source": [
    "# Training\n",
    "The following function provides a generalized method of training a model, and will work on either CPU or GPU."
   ]
  },
  {
   "cell_type": "code",
   "execution_count": 9,
   "metadata": {},
   "outputs": [],
   "source": [
    "def train_model(model, _criterion, _optimizer, _scheduler, num_epochs=20):\n",
    "    since = time.time()\n",
    "\n",
    "    best_model_wts = copy.deepcopy(model.state_dict())\n",
    "    best_acc = 0.0\n",
    "\n",
    "    for epoch in range(num_epochs):\n",
    "        print('Epoch {}/{}'.format(epoch, num_epochs - 1))\n",
    "        print('-' * 10)\n",
    "\n",
    "        # Each epoch has a training and validation phase\n",
    "        for phase in ['train', 'val']:\n",
    "            if phase == 'train':\n",
    "                model.train()  # Set model to training mode\n",
    "            else:\n",
    "                model.eval()   # Set model to evaluate mode\n",
    "\n",
    "            running_loss = 0.0\n",
    "            running_corrects = 0\n",
    "\n",
    "            # Iterate over data.\n",
    "            for data in dataloaders[phase]:\n",
    "                inputs = data['image']\n",
    "                labels = data['labels']\n",
    "                inputs = inputs.to(device)\n",
    "                labels = labels.to(device)\n",
    "\n",
    "                # zero the parameter gradients\n",
    "                optimizer.zero_grad()\n",
    "\n",
    "                # forward\n",
    "                # track history if only in train\n",
    "                with torch.set_grad_enabled(phase == 'train'):\n",
    "                    outputs = model(inputs)\n",
    "                    _, preds = torch.max(outputs, 1)\n",
    "                    loss = criterion(outputs, torch.max(labels, 1)[1])\n",
    "                    # loss = criterion(outputs, inputs)\n",
    "                    # backward + optimize only if in training phase\n",
    "                    if phase == 'train':\n",
    "                        loss.backward()\n",
    "                        optimizer.step()\n",
    "\n",
    "                # statistics\n",
    "                running_loss += loss.item() * inputs.size(0)\n",
    "                running_corrects += torch.sum(preds == torch.max(labels, 1)[1])\n",
    "            if phase == 'train':\n",
    "                scheduler.step()\n",
    "\n",
    "            epoch_loss = running_loss / dataset_sizes[phase]\n",
    "            epoch_acc = running_corrects.double() / dataset_sizes[phase]\n",
    "\n",
    "            print('{} Loss: {:.4f} Acc: {:.4f}'.format(\n",
    "                phase, epoch_loss, epoch_acc))\n",
    "\n",
    "            # deep copy the model\n",
    "            if phase == 'val' and epoch_acc > best_acc:\n",
    "                best_acc = epoch_acc\n",
    "                best_model_wts = copy.deepcopy(model.state_dict())\n",
    "\n",
    "        print()\n",
    "\n",
    "    time_elapsed = time.time() - since\n",
    "    print('Training complete in {:.0f}m {:.0f}s'.format(\n",
    "        time_elapsed // 60, time_elapsed % 60))\n",
    "    print('Best val Acc: {:4f}'.format(best_acc))\n",
    "\n",
    "    # load best model weights\n",
    "    model.load_state_dict(best_model_wts)\n",
    "    return model"
   ]
  },
  {
   "cell_type": "code",
   "execution_count": 10,
   "metadata": {},
   "outputs": [],
   "source": [
    "criterion = torch.nn.CrossEntropyLoss()\n",
    "optimizer = torch.optim.SGD(model.parameters(), lr=0.01, momentum=0.9)\n",
    "scheduler = torch.optim.lr_scheduler.StepLR(optimizer, step_size=5, gamma=0.1)"
   ]
  },
  {
   "cell_type": "code",
   "execution_count": 11,
   "metadata": {},
   "outputs": [
    {
     "name": "stdout",
     "output_type": "stream",
     "text": [
      "Epoch 0/29\n",
      "----------\n",
      "train Loss: 0.8314 Acc: 0.7332\n",
      "val Loss: 0.6898 Acc: 0.6831\n",
      "\n",
      "Epoch 1/29\n",
      "----------\n",
      "train Loss: 0.4637 Acc: 0.8773\n",
      "val Loss: 0.3510 Acc: 0.9180\n",
      "\n",
      "Epoch 2/29\n",
      "----------\n",
      "train Loss: 0.4281 Acc: 0.8901\n",
      "val Loss: 0.6121 Acc: 0.8087\n",
      "\n",
      "Epoch 3/29\n",
      "----------\n",
      "train Loss: 0.3454 Acc: 0.9017\n",
      "val Loss: 0.3796 Acc: 0.9126\n",
      "\n",
      "Epoch 4/29\n",
      "----------\n",
      "train Loss: 0.3354 Acc: 0.8962\n",
      "val Loss: 0.2468 Acc: 0.9290\n",
      "\n",
      "Epoch 5/29\n",
      "----------\n",
      "train Loss: 0.1886 Acc: 0.9432\n",
      "val Loss: 0.1766 Acc: 0.9290\n",
      "\n",
      "Epoch 6/29\n",
      "----------\n",
      "train Loss: 0.1381 Acc: 0.9585\n",
      "val Loss: 0.1826 Acc: 0.9399\n",
      "\n",
      "Epoch 7/29\n",
      "----------\n",
      "train Loss: 0.1863 Acc: 0.9457\n",
      "val Loss: 0.1783 Acc: 0.9399\n",
      "\n",
      "Epoch 8/29\n",
      "----------\n",
      "train Loss: 0.1850 Acc: 0.9469\n",
      "val Loss: 0.2065 Acc: 0.9344\n",
      "\n",
      "Epoch 9/29\n",
      "----------\n",
      "train Loss: 0.1428 Acc: 0.9548\n",
      "val Loss: 0.1688 Acc: 0.9454\n",
      "\n",
      "Epoch 10/29\n",
      "----------\n",
      "train Loss: 0.1544 Acc: 0.9567\n",
      "val Loss: 0.1646 Acc: 0.9399\n",
      "\n",
      "Epoch 11/29\n",
      "----------\n",
      "train Loss: 0.1476 Acc: 0.9573\n",
      "val Loss: 0.1669 Acc: 0.9399\n",
      "\n",
      "Epoch 12/29\n",
      "----------\n",
      "train Loss: 0.1275 Acc: 0.9621\n",
      "val Loss: 0.1691 Acc: 0.9344\n",
      "\n",
      "Epoch 13/29\n",
      "----------\n",
      "train Loss: 0.1317 Acc: 0.9512\n",
      "val Loss: 0.1681 Acc: 0.9344\n",
      "\n",
      "Epoch 14/29\n",
      "----------\n",
      "train Loss: 0.1226 Acc: 0.9591\n",
      "val Loss: 0.1624 Acc: 0.9344\n",
      "\n",
      "Epoch 15/29\n",
      "----------\n",
      "train Loss: 0.1255 Acc: 0.9615\n",
      "val Loss: 0.1609 Acc: 0.9399\n",
      "\n",
      "Epoch 16/29\n",
      "----------\n",
      "train Loss: 0.1329 Acc: 0.9554\n",
      "val Loss: 0.1678 Acc: 0.9399\n",
      "\n",
      "Epoch 17/29\n",
      "----------\n",
      "train Loss: 0.1421 Acc: 0.9518\n",
      "val Loss: 0.1694 Acc: 0.9454\n",
      "\n",
      "Epoch 18/29\n",
      "----------\n",
      "train Loss: 0.1295 Acc: 0.9579\n",
      "val Loss: 0.1660 Acc: 0.9399\n",
      "\n",
      "Epoch 19/29\n",
      "----------\n",
      "train Loss: 0.1162 Acc: 0.9621\n",
      "val Loss: 0.1660 Acc: 0.9399\n",
      "\n",
      "Epoch 20/29\n",
      "----------\n",
      "train Loss: 0.1512 Acc: 0.9518\n",
      "val Loss: 0.1686 Acc: 0.9344\n",
      "\n",
      "Epoch 21/29\n",
      "----------\n",
      "train Loss: 0.1381 Acc: 0.9585\n",
      "val Loss: 0.1654 Acc: 0.9508\n",
      "\n",
      "Epoch 22/29\n",
      "----------\n",
      "train Loss: 0.1351 Acc: 0.9615\n",
      "val Loss: 0.1746 Acc: 0.9454\n",
      "\n",
      "Epoch 23/29\n",
      "----------\n",
      "train Loss: 0.1191 Acc: 0.9591\n",
      "val Loss: 0.1715 Acc: 0.9344\n",
      "\n",
      "Epoch 24/29\n",
      "----------\n",
      "train Loss: 0.1138 Acc: 0.9646\n",
      "val Loss: 0.1681 Acc: 0.9399\n",
      "\n",
      "Epoch 25/29\n",
      "----------\n",
      "train Loss: 0.1098 Acc: 0.9695\n",
      "val Loss: 0.1766 Acc: 0.9290\n",
      "\n",
      "Epoch 26/29\n",
      "----------\n",
      "train Loss: 0.1141 Acc: 0.9621\n",
      "val Loss: 0.1653 Acc: 0.9454\n",
      "\n",
      "Epoch 27/29\n",
      "----------\n",
      "train Loss: 0.1334 Acc: 0.9609\n",
      "val Loss: 0.1716 Acc: 0.9344\n",
      "\n",
      "Epoch 28/29\n",
      "----------\n",
      "train Loss: 0.1441 Acc: 0.9512\n",
      "val Loss: 0.1742 Acc: 0.9344\n",
      "\n",
      "Epoch 29/29\n",
      "----------\n",
      "train Loss: 0.1203 Acc: 0.9640\n",
      "val Loss: 0.1672 Acc: 0.9344\n",
      "\n",
      "Training complete in 54m 57s\n",
      "Best val Acc: 0.950820\n"
     ]
    }
   ],
   "source": [
    "model_ft = train_model(model, criterion, optimizer, scheduler, num_epochs=30)"
   ]
  },
  {
   "cell_type": "markdown",
   "metadata": {},
   "source": [
    "# Prediction\n",
    "Now that the optimal model has been found, the following code predicts labels for the test data and submission."
   ]
  },
  {
   "cell_type": "code",
   "execution_count": 12,
   "metadata": {},
   "outputs": [],
   "source": [
    "submission_data = pd.read_csv(path / 'test.csv')\n",
    "submission_data['healthy'] = np.zeros(submission_data.shape[0])\n",
    "submission_data['multiple_diseases'] = np.zeros(submission_data.shape[0])\n",
    "submission_data['rust'] = np.zeros(submission_data.shape[0])\n",
    "submission_data['scab'] = np.zeros(submission_data.shape[0])\n",
    "submission_dataset = PlantPathology(submission_data, path / 'images',\n",
    "                               transform=transform_test)\n",
    "submission_dataloader = torch.utils.data.DataLoader(submission_dataset, batch_size=4,\n",
    "                                             shuffle=False, num_workers=4)"
   ]
  },
  {
   "cell_type": "code",
   "execution_count": 13,
   "metadata": {},
   "outputs": [],
   "source": [
    "model_ft.eval()\n",
    "results = []\n",
    "torch.set_grad_enabled(False)\n",
    "for data in submission_dataloader:\n",
    "    input = data['image']\n",
    "    input = input.to(device)\n",
    "    outputs = model_ft(input)\n",
    "    _, r = outputs.max(1)\n",
    "    # print(r)\n",
    "    results.append(np.squeeze(r.cpu().numpy()))\n",
    "    # print(results)\n",
    "# print(results)"
   ]
  },
  {
   "cell_type": "code",
   "execution_count": 14,
   "metadata": {},
   "outputs": [
    {
     "name": "stdout",
     "output_type": "stream",
     "text": [
      "       image_id  healthy  multiple_diseases  rust  scab\n",
      "0        Test_0      0.0                0.0   1.0   0.0\n",
      "1        Test_1      0.0                0.0   1.0   0.0\n",
      "2        Test_2      0.0                0.0   0.0   1.0\n",
      "3        Test_3      1.0                0.0   0.0   0.0\n",
      "4        Test_4      0.0                0.0   1.0   0.0\n",
      "...         ...      ...                ...   ...   ...\n",
      "1816  Test_1816      0.0                0.0   1.0   0.0\n",
      "1817  Test_1817      0.0                0.0   0.0   1.0\n",
      "1818  Test_1818      0.0                0.0   1.0   0.0\n",
      "1819  Test_1819      1.0                0.0   0.0   0.0\n",
      "1820  Test_1820      0.0                0.0   0.0   1.0\n",
      "\n",
      "[1821 rows x 5 columns]\n"
     ]
    }
   ],
   "source": [
    "results_array = np.hstack(tuple(results))\n",
    "labels = submission_data.columns[1:]\n",
    "for i in range(0, results_array.shape[0]):\n",
    "    submission_data.loc[i, labels[results_array[i]]] = 1\n",
    "print(submission_data)\n",
    "submission_data.to_csv('/kaggle/working/submission.csv', index=False)"
   ]
  }
 ],
 "metadata": {
  "kernelspec": {
   "display_name": "Python 3",
   "language": "python",
   "name": "python3"
  },
  "language_info": {
   "codemirror_mode": {
    "name": "ipython",
    "version": 3
   },
   "file_extension": ".py",
   "mimetype": "text/x-python",
   "name": "python",
   "nbconvert_exporter": "python",
   "pygments_lexer": "ipython3",
   "version": "3.6.6"
  },
  "widgets": {
   "application/vnd.jupyter.widget-state+json": {
    "state": {
     "3172ccf57730493e962afd48fbb05f26": {
      "model_module": "@jupyter-widgets/base",
      "model_module_version": "1.2.0",
      "model_name": "LayoutModel",
      "state": {
       "_model_module": "@jupyter-widgets/base",
       "_model_module_version": "1.2.0",
       "_model_name": "LayoutModel",
       "_view_count": null,
       "_view_module": "@jupyter-widgets/base",
       "_view_module_version": "1.2.0",
       "_view_name": "LayoutView",
       "align_content": null,
       "align_items": null,
       "align_self": null,
       "border": null,
       "bottom": null,
       "display": null,
       "flex": null,
       "flex_flow": null,
       "grid_area": null,
       "grid_auto_columns": null,
       "grid_auto_flow": null,
       "grid_auto_rows": null,
       "grid_column": null,
       "grid_gap": null,
       "grid_row": null,
       "grid_template_areas": null,
       "grid_template_columns": null,
       "grid_template_rows": null,
       "height": null,
       "justify_content": null,
       "justify_items": null,
       "left": null,
       "margin": null,
       "max_height": null,
       "max_width": null,
       "min_height": null,
       "min_width": null,
       "object_fit": null,
       "object_position": null,
       "order": null,
       "overflow": null,
       "overflow_x": null,
       "overflow_y": null,
       "padding": null,
       "right": null,
       "top": null,
       "visibility": null,
       "width": null
      }
     },
     "53b9dec84fca470ba6cc621840c7f0c4": {
      "model_module": "@jupyter-widgets/base",
      "model_module_version": "1.2.0",
      "model_name": "LayoutModel",
      "state": {
       "_model_module": "@jupyter-widgets/base",
       "_model_module_version": "1.2.0",
       "_model_name": "LayoutModel",
       "_view_count": null,
       "_view_module": "@jupyter-widgets/base",
       "_view_module_version": "1.2.0",
       "_view_name": "LayoutView",
       "align_content": null,
       "align_items": null,
       "align_self": null,
       "border": null,
       "bottom": null,
       "display": null,
       "flex": null,
       "flex_flow": null,
       "grid_area": null,
       "grid_auto_columns": null,
       "grid_auto_flow": null,
       "grid_auto_rows": null,
       "grid_column": null,
       "grid_gap": null,
       "grid_row": null,
       "grid_template_areas": null,
       "grid_template_columns": null,
       "grid_template_rows": null,
       "height": null,
       "justify_content": null,
       "justify_items": null,
       "left": null,
       "margin": null,
       "max_height": null,
       "max_width": null,
       "min_height": null,
       "min_width": null,
       "object_fit": null,
       "object_position": null,
       "order": null,
       "overflow": null,
       "overflow_x": null,
       "overflow_y": null,
       "padding": null,
       "right": null,
       "top": null,
       "visibility": null,
       "width": null
      }
     },
     "6794ce063d9d41e38af2e885d96449a6": {
      "model_module": "@jupyter-widgets/controls",
      "model_module_version": "1.5.0",
      "model_name": "HBoxModel",
      "state": {
       "_dom_classes": [],
       "_model_module": "@jupyter-widgets/controls",
       "_model_module_version": "1.5.0",
       "_model_name": "HBoxModel",
       "_view_count": null,
       "_view_module": "@jupyter-widgets/controls",
       "_view_module_version": "1.5.0",
       "_view_name": "HBoxView",
       "box_style": "",
       "children": [
        "IPY_MODEL_a26913c1af2043d9a1b6264b259fae22",
        "IPY_MODEL_9e22c06c137547878e960129e25a34ae"
       ],
       "layout": "IPY_MODEL_7cf66d18cd9b490aa6e33aea57514dd8"
      }
     },
     "7cf66d18cd9b490aa6e33aea57514dd8": {
      "model_module": "@jupyter-widgets/base",
      "model_module_version": "1.2.0",
      "model_name": "LayoutModel",
      "state": {
       "_model_module": "@jupyter-widgets/base",
       "_model_module_version": "1.2.0",
       "_model_name": "LayoutModel",
       "_view_count": null,
       "_view_module": "@jupyter-widgets/base",
       "_view_module_version": "1.2.0",
       "_view_name": "LayoutView",
       "align_content": null,
       "align_items": null,
       "align_self": null,
       "border": null,
       "bottom": null,
       "display": null,
       "flex": null,
       "flex_flow": null,
       "grid_area": null,
       "grid_auto_columns": null,
       "grid_auto_flow": null,
       "grid_auto_rows": null,
       "grid_column": null,
       "grid_gap": null,
       "grid_row": null,
       "grid_template_areas": null,
       "grid_template_columns": null,
       "grid_template_rows": null,
       "height": null,
       "justify_content": null,
       "justify_items": null,
       "left": null,
       "margin": null,
       "max_height": null,
       "max_width": null,
       "min_height": null,
       "min_width": null,
       "object_fit": null,
       "object_position": null,
       "order": null,
       "overflow": null,
       "overflow_x": null,
       "overflow_y": null,
       "padding": null,
       "right": null,
       "top": null,
       "visibility": null,
       "width": null
      }
     },
     "9e22c06c137547878e960129e25a34ae": {
      "model_module": "@jupyter-widgets/controls",
      "model_module_version": "1.5.0",
      "model_name": "HTMLModel",
      "state": {
       "_dom_classes": [],
       "_model_module": "@jupyter-widgets/controls",
       "_model_module_version": "1.5.0",
       "_model_name": "HTMLModel",
       "_view_count": null,
       "_view_module": "@jupyter-widgets/controls",
       "_view_module_version": "1.5.0",
       "_view_name": "HTMLView",
       "description": "",
       "description_tooltip": null,
       "layout": "IPY_MODEL_53b9dec84fca470ba6cc621840c7f0c4",
       "placeholder": "​",
       "style": "IPY_MODEL_da71e32a1f04494d88c9eeccb4f75487",
       "value": " 95.8M/95.8M [00:08&lt;00:00, 12.5MB/s]"
      }
     },
     "a26913c1af2043d9a1b6264b259fae22": {
      "model_module": "@jupyter-widgets/controls",
      "model_module_version": "1.5.0",
      "model_name": "FloatProgressModel",
      "state": {
       "_dom_classes": [],
       "_model_module": "@jupyter-widgets/controls",
       "_model_module_version": "1.5.0",
       "_model_name": "FloatProgressModel",
       "_view_count": null,
       "_view_module": "@jupyter-widgets/controls",
       "_view_module_version": "1.5.0",
       "_view_name": "ProgressView",
       "bar_style": "success",
       "description": "100%",
       "description_tooltip": null,
       "layout": "IPY_MODEL_3172ccf57730493e962afd48fbb05f26",
       "max": 100441675.0,
       "min": 0.0,
       "orientation": "horizontal",
       "style": "IPY_MODEL_ef16f5e7e947477ea35932292f4922d5",
       "value": 100441675.0
      }
     },
     "da71e32a1f04494d88c9eeccb4f75487": {
      "model_module": "@jupyter-widgets/controls",
      "model_module_version": "1.5.0",
      "model_name": "DescriptionStyleModel",
      "state": {
       "_model_module": "@jupyter-widgets/controls",
       "_model_module_version": "1.5.0",
       "_model_name": "DescriptionStyleModel",
       "_view_count": null,
       "_view_module": "@jupyter-widgets/base",
       "_view_module_version": "1.2.0",
       "_view_name": "StyleView",
       "description_width": ""
      }
     },
     "ef16f5e7e947477ea35932292f4922d5": {
      "model_module": "@jupyter-widgets/controls",
      "model_module_version": "1.5.0",
      "model_name": "ProgressStyleModel",
      "state": {
       "_model_module": "@jupyter-widgets/controls",
       "_model_module_version": "1.5.0",
       "_model_name": "ProgressStyleModel",
       "_view_count": null,
       "_view_module": "@jupyter-widgets/base",
       "_view_module_version": "1.2.0",
       "_view_name": "StyleView",
       "bar_color": null,
       "description_width": "initial"
      }
     }
    },
    "version_major": 2,
    "version_minor": 0
   }
  }
 },
 "nbformat": 4,
 "nbformat_minor": 4
}
